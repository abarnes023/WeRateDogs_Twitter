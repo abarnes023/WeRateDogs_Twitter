{
 "cells": [
  {
   "cell_type": "markdown",
   "metadata": {},
   "source": [
    "## WeRateDogs Wrangle Report\n",
    "\n",
    "The purpose of this document is to serve as a reflection of the data wrangling performed on the WeRateDogs Twitter archive data. While gathering the data, I found it extremely exciting and rewarding to successfully query Twitter's API for additional tweet data. As I began to assess the data, I found that I was discovering a number of issues solely through visual assessment (e.g. retweets, tweets without images, lowercase names such as 'a', ratings with decimals, etc). I documented these and then began my programmatic assessment, starting with the issues I had already noticed.\n",
    "\n",
    "While taking a closer look at lowercase dog names in the data, I noticed that some dog names in the format of \"name is...\" and \"named ...\" were not captured correctly in the dataset. As I continued through the assessment, I noticed not all the rating denominators were 10. While taking a closer look at denominators not equal to 10 I observed tweets with two fractions in the text with the wrong one recorded as the rating. This was also where I observed that the name Bretagne was not recorded from the text.\n",
    "\n",
    "In terms of tidiness issues, I decided to merge the `tweets` table and the `tweet_stats` table. I left the `images` table as is because I felt that this was a different type of observational unit than the tweets data.\n",
    "\n",
    "The first issue I ran into while cleaning the data was when dealing with the dog stages. At first I wanted to use melt, but I realized that this produced multiple entries in the dataset for each tweet id. It was here that I also noticed some tweets mentioned a dog stage more than once. My solution was to find all dog stages in each tweet, use the first mentioned dog stage as the recorded dog stage, and create an additional dog stage column where I could record whether or not dog stages were mentioned more than once in the tweet.\n",
    "\n",
    "I also ran into issues with my Regular Expression searching for \"name is ...\" and \"named ...\" in the text. At first I could not get the RegEx to work, but I discovered that using a non-capturing group helped. Then I accidentally erased all recorded names in tweets that didn't match my RegEx. I finally solved the issue by looping through the indices of tweets matching the RegEx and adding the dog name to the dataset.\n",
    "\n",
    "Overall, I feel that this problem set helped me improve my data wrangling skills tremendously. I feel more comfortable gathering data, assessing it, and cleaning it in a way that makes analysis much easier."
   ]
  }
 ],
 "metadata": {
  "kernelspec": {
   "display_name": "Python [conda env:Anaconda3]",
   "language": "python",
   "name": "conda-env-Anaconda3-py"
  },
  "language_info": {
   "codemirror_mode": {
    "name": "ipython",
    "version": 3
   },
   "file_extension": ".py",
   "mimetype": "text/x-python",
   "name": "python",
   "nbconvert_exporter": "python",
   "pygments_lexer": "ipython3",
   "version": "3.6.4"
  }
 },
 "nbformat": 4,
 "nbformat_minor": 2
}
